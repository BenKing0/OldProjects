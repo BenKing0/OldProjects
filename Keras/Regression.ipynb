{
 "cells": [
  {
   "cell_type": "markdown",
   "metadata": {},
   "source": [
    "### Load and prepare data"
   ]
  },
  {
   "cell_type": "code",
   "execution_count": 7,
   "metadata": {},
   "outputs": [
    {
     "data": {
      "text/plain": [
       "'training data: (404 x 13), testing data: (102 x 13). 13 properties for each entry, eg. crime rate, average number of rooms.\\nTargets are (404 x 1) and (102 x 1) for train and test respectively, with each entry the numerical value (in thousands).'"
      ]
     },
     "execution_count": 7,
     "metadata": {},
     "output_type": "execute_result"
    }
   ],
   "source": [
    "from keras.datasets import boston_housing # Predict average house prices base on properties.\n",
    "\n",
    "(train_data,train_targets), (test_data,test_targets) = boston_housing.load_data()\n",
    "\n",
    "'''training data: (404 x 13), testing data: (102 x 13). 13 properties for each entry, eg. crime rate, average number of rooms.\n",
    "Targets are (404 x 1) and (102 x 1) for train and test respectively, with each entry the numerical value (in thousands).'''"
   ]
  },
  {
   "cell_type": "code",
   "execution_count": 8,
   "metadata": {},
   "outputs": [],
   "source": [
    "import numpy as np\n",
    "\n",
    "# Normalise each entries data into z values (minus mean, divide by std dev) to reduce input activations and speed learning.\n",
    "# eg. normalise across all crime rates, and room numbers, etc...\n",
    "def z_normalisation(data,args=None):\n",
    "    if args is None:\n",
    "        data = (data - np.mean(data,axis=0)) / np.std(data,axis=0)\n",
    "    else:\n",
    "        mu,sigma = args[0],args[1]\n",
    "        data = (data - mu) / sigma\n",
    "    return data\n",
    "\n",
    "train_data_z = z_normalisation(train_data)\n",
    "test_data_z = z_normalisation(test_data,args=[np.mean(train_data,axis=0),np.std(train_data,axis=0)])"
   ]
  },
  {
   "cell_type": "markdown",
   "metadata": {},
   "source": [
    "### Building the model - build as a function for quick repetition"
   ]
  },
  {
   "cell_type": "code",
   "execution_count": 9,
   "metadata": {},
   "outputs": [],
   "source": [
    "from keras import layers\n",
    "from keras import models\n",
    "\n",
    "def build_model(hidden_layers=2, neurons=[13,64,64,1], activations=['relu','relu'],\n",
    "                optimiser='RMSprop', loss='mse', metrics='mae'):\n",
    "    assert len(neurons) == hidden_layers + 2, 'Layer number mismatch'\n",
    "    layer = [None] * len(neurons)\n",
    "    layer[0] = layers.Input(shape=(neurons[0],))\n",
    "    for i in range(1,hidden_layers+1):\n",
    "        layer[i] = layers.Dense(neurons[i],activation=activations[i-1])(layer[i-1])\n",
    "    layer[-1] = layers.Dense(neurons[-1])(layer[-2]) \n",
    "    # Output layer has no activation function (returns true value), note this requires `ReLU` functions to do this (no squashing).\n",
    "    model = models.Model(inputs=layer[0],outputs=layer[-1])\n",
    "    model.compile(optimizer=optimiser,loss=loss,metrics=[metrics])\n",
    "    return  model"
   ]
  },
  {
   "cell_type": "markdown",
   "metadata": {},
   "source": [
    "### Validate approach with K-fold validation"
   ]
  },
  {
   "cell_type": "markdown",
   "metadata": {},
   "source": [
    "Better for small training sets, as validation set performance has larger variance, making model evaluation more difficult.\n",
    "\n",
    "Therefore training data split into 'K' partitions and trained on 'K-1', while validated on 1 partition. The validation score is then the average over each partition."
   ]
  },
  {
   "cell_type": "code",
   "execution_count": 10,
   "metadata": {},
   "outputs": [
    {
     "name": "stdout",
     "output_type": "stream",
     "text": [
      "[PhysicalDevice(name='/physical_device:GPU:0', device_type='GPU')]\n",
      "Physical devices cannot be modified after being initialized\n"
     ]
    }
   ],
   "source": [
    "import tensorflow as tf\n",
    "gpus = tf.config.experimental.list_physical_devices('GPU')\n",
    "print(gpus)\n",
    "if gpus:\n",
    "    try:\n",
    "        # Restrict TensorFlow to only use the fourth GPU\n",
    "        tf.config.experimental.set_visible_devices(gpus[0], 'GPU')\n",
    "\n",
    "        # Currently, memory growth needs to be the same across GPUs\n",
    "        for gpu in gpus:\n",
    "            tf.config.experimental.set_memory_growth(gpu, True)\n",
    "        logical_gpus = tf.config.experimental.list_logical_devices('GPU')\n",
    "        print(len(gpus), \"Physical GPUs,\", len(logical_gpus), \"Logical GPUs\")\n",
    "    except RuntimeError as e:\n",
    "        # Memory growth must be set before GPUs have been initialized\n",
    "        print(e)"
   ]
  },
  {
   "cell_type": "code",
   "execution_count": 11,
   "metadata": {},
   "outputs": [
    {
     "name": "stdout",
     "output_type": "stream",
     "text": [
      "Running fold 1 of 4\n",
      "Train on 303 samples, validate on 101 samples\n",
      "Epoch 1/100\n",
      "303/303 [==============================] - 0s 2ms/step - loss: nan - mae: nan - val_loss: nan - val_mae: nan\n",
      "Epoch 2/100\n",
      "303/303 [==============================] - 0s 902us/step - loss: nan - mae: nan - val_loss: nan - val_mae: nan\n",
      "Epoch 3/100\n",
      "303/303 [==============================] - 0s 949us/step - loss: nan - mae: nan - val_loss: nan - val_mae: nan\n",
      "Epoch 4/100\n",
      "303/303 [==============================] - 0s 829us/step - loss: nan - mae: nan - val_loss: nan - val_mae: nan\n",
      "Epoch 5/100\n",
      "303/303 [==============================] - 0s 1ms/step - loss: nan - mae: nan - val_loss: nan - val_mae: nan\n",
      "Epoch 6/100\n",
      "303/303 [==============================] - 0s 798us/step - loss: nan - mae: nan - val_loss: nan - val_mae: nan\n",
      "Epoch 7/100\n",
      "303/303 [==============================] - 0s 1ms/step - loss: nan - mae: nan - val_loss: nan - val_mae: nan\n",
      "Epoch 8/100\n",
      "303/303 [==============================] - 0s 837us/step - loss: nan - mae: nan - val_loss: nan - val_mae: nan\n",
      "Epoch 9/100\n",
      "303/303 [==============================] - 0s 681us/step - loss: nan - mae: nan - val_loss: nan - val_mae: nan\n",
      "Epoch 10/100\n",
      "303/303 [==============================] - 0s 674us/step - loss: nan - mae: nan - val_loss: nan - val_mae: nan\n",
      "Epoch 11/100\n",
      "303/303 [==============================] - 0s 523us/step - loss: nan - mae: nan - val_loss: nan - val_mae: nan\n",
      "Epoch 12/100\n",
      "303/303 [==============================] - 0s 579us/step - loss: nan - mae: nan - val_loss: nan - val_mae: nan\n",
      "Epoch 13/100\n",
      "303/303 [==============================] - 0s 594us/step - loss: nan - mae: nan - val_loss: nan - val_mae: nan\n",
      "Epoch 14/100\n",
      "303/303 [==============================] - 0s 581us/step - loss: nan - mae: nan - val_loss: nan - val_mae: nan\n",
      "Epoch 15/100\n",
      "303/303 [==============================] - 0s 585us/step - loss: nan - mae: nan - val_loss: nan - val_mae: nan\n",
      "Epoch 16/100\n",
      "303/303 [==============================] - 0s 588us/step - loss: nan - mae: nan - val_loss: nan - val_mae: nan\n",
      "Epoch 17/100\n",
      "303/303 [==============================] - 0s 610us/step - loss: nan - mae: nan - val_loss: nan - val_mae: nan\n",
      "Epoch 18/100\n",
      "303/303 [==============================] - 0s 566us/step - loss: nan - mae: nan - val_loss: nan - val_mae: nan\n",
      "Epoch 19/100\n",
      "303/303 [==============================] - 0s 577us/step - loss: nan - mae: nan - val_loss: nan - val_mae: nan\n",
      "Epoch 20/100\n",
      "303/303 [==============================] - 0s 571us/step - loss: nan - mae: nan - val_loss: nan - val_mae: nan\n",
      "Epoch 21/100\n",
      "303/303 [==============================] - 0s 592us/step - loss: nan - mae: nan - val_loss: nan - val_mae: nan\n",
      "Epoch 22/100\n",
      "303/303 [==============================] - 0s 604us/step - loss: nan - mae: nan - val_loss: nan - val_mae: nan\n",
      "Epoch 23/100\n",
      "303/303 [==============================] - 0s 602us/step - loss: nan - mae: nan - val_loss: nan - val_mae: nan\n",
      "Epoch 24/100\n",
      "303/303 [==============================] - 0s 573us/step - loss: nan - mae: nan - val_loss: nan - val_mae: nan\n",
      "Epoch 25/100\n",
      "303/303 [==============================] - 0s 786us/step - loss: nan - mae: nan - val_loss: nan - val_mae: nan\n",
      "Epoch 26/100\n",
      "303/303 [==============================] - 0s 838us/step - loss: nan - mae: nan - val_loss: nan - val_mae: nan\n",
      "Epoch 27/100\n",
      "303/303 [==============================] - 0s 867us/step - loss: nan - mae: nan - val_loss: nan - val_mae: nan\n",
      "Epoch 28/100\n",
      "303/303 [==============================] - 0s 787us/step - loss: nan - mae: nan - val_loss: nan - val_mae: nan\n",
      "Epoch 29/100\n",
      "303/303 [==============================] - 0s 767us/step - loss: nan - mae: nan - val_loss: nan - val_mae: nan\n",
      "Epoch 30/100\n",
      "303/303 [==============================] - 0s 768us/step - loss: nan - mae: nan - val_loss: nan - val_mae: nan\n",
      "Epoch 31/100\n",
      "303/303 [==============================] - 0s 719us/step - loss: nan - mae: nan - val_loss: nan - val_mae: nan\n",
      "Epoch 32/100\n",
      "303/303 [==============================] - 0s 834us/step - loss: nan - mae: nan - val_loss: nan - val_mae: nan\n",
      "Epoch 33/100\n",
      "303/303 [==============================] - 0s 605us/step - loss: nan - mae: nan - val_loss: nan - val_mae: nan\n",
      "Epoch 34/100\n",
      "303/303 [==============================] - 0s 746us/step - loss: nan - mae: nan - val_loss: nan - val_mae: nan\n",
      "Epoch 35/100\n",
      "303/303 [==============================] - 0s 774us/step - loss: nan - mae: nan - val_loss: nan - val_mae: nan\n",
      "Epoch 36/100\n",
      "303/303 [==============================] - 0s 799us/step - loss: nan - mae: nan - val_loss: nan - val_mae: nan\n",
      "Epoch 37/100\n",
      "303/303 [==============================] - 0s 710us/step - loss: nan - mae: nan - val_loss: nan - val_mae: nan\n",
      "Epoch 38/100\n",
      "303/303 [==============================] - 0s 802us/step - loss: nan - mae: nan - val_loss: nan - val_mae: nan\n",
      "Epoch 39/100\n",
      "303/303 [==============================] - 0s 628us/step - loss: nan - mae: nan - val_loss: nan - val_mae: nan\n",
      "Epoch 40/100\n",
      "303/303 [==============================] - 0s 633us/step - loss: nan - mae: nan - val_loss: nan - val_mae: nan\n",
      "Epoch 41/100\n",
      "303/303 [==============================] - 0s 640us/step - loss: nan - mae: nan - val_loss: nan - val_mae: nan\n",
      "Epoch 42/100\n",
      "303/303 [==============================] - 0s 664us/step - loss: nan - mae: nan - val_loss: nan - val_mae: nan\n",
      "Epoch 43/100\n",
      "303/303 [==============================] - 0s 713us/step - loss: nan - mae: nan - val_loss: nan - val_mae: nan\n",
      "Epoch 44/100\n",
      "303/303 [==============================] - 0s 604us/step - loss: nan - mae: nan - val_loss: nan - val_mae: nan\n",
      "Epoch 45/100\n",
      "303/303 [==============================] - 0s 597us/step - loss: nan - mae: nan - val_loss: nan - val_mae: nan\n",
      "Epoch 46/100\n",
      "303/303 [==============================] - 0s 846us/step - loss: nan - mae: nan - val_loss: nan - val_mae: nan\n",
      "Epoch 47/100\n",
      "303/303 [==============================] - 0s 1ms/step - loss: nan - mae: nan - val_loss: nan - val_mae: nan\n",
      "Epoch 48/100\n",
      "303/303 [==============================] - 0s 913us/step - loss: nan - mae: nan - val_loss: nan - val_mae: nan\n",
      "Epoch 49/100\n",
      "303/303 [==============================] - 0s 814us/step - loss: nan - mae: nan - val_loss: nan - val_mae: nan\n",
      "Epoch 50/100\n",
      " 10/303 [..............................] - ETA: 0s - loss: nan - mae: nan"
     ]
    },
    {
     "ename": "KeyboardInterrupt",
     "evalue": "",
     "output_type": "error",
     "traceback": [
      "\u001b[1;31m---------------------------------------------------------------------------\u001b[0m",
      "\u001b[1;31mKeyboardInterrupt\u001b[0m                         Traceback (most recent call last)",
      "\u001b[1;32m<ipython-input-11-370b2941770a>\u001b[0m in \u001b[0;36m<module>\u001b[1;34m\u001b[0m\n\u001b[0;32m     16\u001b[0m     history = model.fit(np.squeeze(partial_x), partial_y, \n\u001b[0;32m     17\u001b[0m               \u001b[0mvalidation_data\u001b[0m\u001b[1;33m=\u001b[0m\u001b[1;33m(\u001b[0m\u001b[0mvalidate_x\u001b[0m\u001b[1;33m,\u001b[0m\u001b[0mvalidate_y\u001b[0m\u001b[1;33m)\u001b[0m\u001b[1;33m,\u001b[0m\u001b[1;33m\u001b[0m\u001b[1;33m\u001b[0m\u001b[0m\n\u001b[1;32m---> 18\u001b[1;33m               epochs=n_epochs, batch_size=batch, verbose=1)\n\u001b[0m\u001b[0;32m     19\u001b[0m     \u001b[0mmae\u001b[0m \u001b[1;33m=\u001b[0m \u001b[0mhistory\u001b[0m\u001b[1;33m.\u001b[0m\u001b[0mhistory\u001b[0m\u001b[1;33m[\u001b[0m\u001b[1;34m'val_mae'\u001b[0m\u001b[1;33m]\u001b[0m\u001b[1;33m\u001b[0m\u001b[1;33m\u001b[0m\u001b[0m\n\u001b[0;32m     20\u001b[0m     \u001b[0mMAEs\u001b[0m\u001b[1;33m.\u001b[0m\u001b[0mappend\u001b[0m\u001b[1;33m(\u001b[0m\u001b[0mmae\u001b[0m\u001b[1;33m)\u001b[0m\u001b[1;33m\u001b[0m\u001b[1;33m\u001b[0m\u001b[0m\n",
      "\u001b[1;32m~\\AppData\\Local\\Continuum\\anaconda3\\lib\\site-packages\\keras\\engine\\training.py\u001b[0m in \u001b[0;36mfit\u001b[1;34m(self, x, y, batch_size, epochs, verbose, callbacks, validation_split, validation_data, shuffle, class_weight, sample_weight, initial_epoch, steps_per_epoch, validation_steps, validation_freq, max_queue_size, workers, use_multiprocessing, **kwargs)\u001b[0m\n\u001b[0;32m   1237\u001b[0m                                         \u001b[0msteps_per_epoch\u001b[0m\u001b[1;33m=\u001b[0m\u001b[0msteps_per_epoch\u001b[0m\u001b[1;33m,\u001b[0m\u001b[1;33m\u001b[0m\u001b[1;33m\u001b[0m\u001b[0m\n\u001b[0;32m   1238\u001b[0m                                         \u001b[0mvalidation_steps\u001b[0m\u001b[1;33m=\u001b[0m\u001b[0mvalidation_steps\u001b[0m\u001b[1;33m,\u001b[0m\u001b[1;33m\u001b[0m\u001b[1;33m\u001b[0m\u001b[0m\n\u001b[1;32m-> 1239\u001b[1;33m                                         validation_freq=validation_freq)\n\u001b[0m\u001b[0;32m   1240\u001b[0m \u001b[1;33m\u001b[0m\u001b[0m\n\u001b[0;32m   1241\u001b[0m     def evaluate(self,\n",
      "\u001b[1;32m~\\AppData\\Local\\Continuum\\anaconda3\\lib\\site-packages\\keras\\engine\\training_arrays.py\u001b[0m in \u001b[0;36mfit_loop\u001b[1;34m(model, fit_function, fit_inputs, out_labels, batch_size, epochs, verbose, callbacks, val_function, val_inputs, shuffle, initial_epoch, steps_per_epoch, validation_steps, validation_freq)\u001b[0m\n\u001b[0;32m    194\u001b[0m                     \u001b[0mins_batch\u001b[0m\u001b[1;33m[\u001b[0m\u001b[0mi\u001b[0m\u001b[1;33m]\u001b[0m \u001b[1;33m=\u001b[0m \u001b[0mins_batch\u001b[0m\u001b[1;33m[\u001b[0m\u001b[0mi\u001b[0m\u001b[1;33m]\u001b[0m\u001b[1;33m.\u001b[0m\u001b[0mtoarray\u001b[0m\u001b[1;33m(\u001b[0m\u001b[1;33m)\u001b[0m\u001b[1;33m\u001b[0m\u001b[1;33m\u001b[0m\u001b[0m\n\u001b[0;32m    195\u001b[0m \u001b[1;33m\u001b[0m\u001b[0m\n\u001b[1;32m--> 196\u001b[1;33m                 \u001b[0mouts\u001b[0m \u001b[1;33m=\u001b[0m \u001b[0mfit_function\u001b[0m\u001b[1;33m(\u001b[0m\u001b[0mins_batch\u001b[0m\u001b[1;33m)\u001b[0m\u001b[1;33m\u001b[0m\u001b[1;33m\u001b[0m\u001b[0m\n\u001b[0m\u001b[0;32m    197\u001b[0m                 \u001b[0mouts\u001b[0m \u001b[1;33m=\u001b[0m \u001b[0mto_list\u001b[0m\u001b[1;33m(\u001b[0m\u001b[0mouts\u001b[0m\u001b[1;33m)\u001b[0m\u001b[1;33m\u001b[0m\u001b[1;33m\u001b[0m\u001b[0m\n\u001b[0;32m    198\u001b[0m                 \u001b[1;32mfor\u001b[0m \u001b[0ml\u001b[0m\u001b[1;33m,\u001b[0m \u001b[0mo\u001b[0m \u001b[1;32min\u001b[0m \u001b[0mzip\u001b[0m\u001b[1;33m(\u001b[0m\u001b[0mout_labels\u001b[0m\u001b[1;33m,\u001b[0m \u001b[0mouts\u001b[0m\u001b[1;33m)\u001b[0m\u001b[1;33m:\u001b[0m\u001b[1;33m\u001b[0m\u001b[1;33m\u001b[0m\u001b[0m\n",
      "\u001b[1;32m~\\AppData\\Local\\Continuum\\anaconda3\\lib\\site-packages\\tensorflow\\python\\keras\\backend.py\u001b[0m in \u001b[0;36m__call__\u001b[1;34m(self, inputs)\u001b[0m\n\u001b[0;32m   3790\u001b[0m         \u001b[0mvalue\u001b[0m \u001b[1;33m=\u001b[0m \u001b[0mmath_ops\u001b[0m\u001b[1;33m.\u001b[0m\u001b[0mcast\u001b[0m\u001b[1;33m(\u001b[0m\u001b[0mvalue\u001b[0m\u001b[1;33m,\u001b[0m \u001b[0mtensor\u001b[0m\u001b[1;33m.\u001b[0m\u001b[0mdtype\u001b[0m\u001b[1;33m)\u001b[0m\u001b[1;33m\u001b[0m\u001b[1;33m\u001b[0m\u001b[0m\n\u001b[0;32m   3791\u001b[0m       \u001b[0mconverted_inputs\u001b[0m\u001b[1;33m.\u001b[0m\u001b[0mappend\u001b[0m\u001b[1;33m(\u001b[0m\u001b[0mvalue\u001b[0m\u001b[1;33m)\u001b[0m\u001b[1;33m\u001b[0m\u001b[1;33m\u001b[0m\u001b[0m\n\u001b[1;32m-> 3792\u001b[1;33m     \u001b[0moutputs\u001b[0m \u001b[1;33m=\u001b[0m \u001b[0mself\u001b[0m\u001b[1;33m.\u001b[0m\u001b[0m_graph_fn\u001b[0m\u001b[1;33m(\u001b[0m\u001b[1;33m*\u001b[0m\u001b[0mconverted_inputs\u001b[0m\u001b[1;33m)\u001b[0m\u001b[1;33m\u001b[0m\u001b[1;33m\u001b[0m\u001b[0m\n\u001b[0m\u001b[0;32m   3793\u001b[0m \u001b[1;33m\u001b[0m\u001b[0m\n\u001b[0;32m   3794\u001b[0m     \u001b[1;31m# EagerTensor.numpy() will often make a copy to ensure memory safety.\u001b[0m\u001b[1;33m\u001b[0m\u001b[1;33m\u001b[0m\u001b[1;33m\u001b[0m\u001b[0m\n",
      "\u001b[1;32m~\\AppData\\Local\\Continuum\\anaconda3\\lib\\site-packages\\tensorflow\\python\\eager\\function.py\u001b[0m in \u001b[0;36m__call__\u001b[1;34m(self, *args, **kwargs)\u001b[0m\n\u001b[0;32m   1603\u001b[0m       \u001b[0mTypeError\u001b[0m\u001b[1;33m:\u001b[0m \u001b[0mFor\u001b[0m \u001b[0minvalid\u001b[0m \u001b[0mpositional\u001b[0m\u001b[1;33m/\u001b[0m\u001b[0mkeyword\u001b[0m \u001b[0margument\u001b[0m \u001b[0mcombinations\u001b[0m\u001b[1;33m.\u001b[0m\u001b[1;33m\u001b[0m\u001b[1;33m\u001b[0m\u001b[0m\n\u001b[0;32m   1604\u001b[0m     \"\"\"\n\u001b[1;32m-> 1605\u001b[1;33m     \u001b[1;32mreturn\u001b[0m \u001b[0mself\u001b[0m\u001b[1;33m.\u001b[0m\u001b[0m_call_impl\u001b[0m\u001b[1;33m(\u001b[0m\u001b[0margs\u001b[0m\u001b[1;33m,\u001b[0m \u001b[0mkwargs\u001b[0m\u001b[1;33m)\u001b[0m\u001b[1;33m\u001b[0m\u001b[1;33m\u001b[0m\u001b[0m\n\u001b[0m\u001b[0;32m   1606\u001b[0m \u001b[1;33m\u001b[0m\u001b[0m\n\u001b[0;32m   1607\u001b[0m   \u001b[1;32mdef\u001b[0m \u001b[0m_call_impl\u001b[0m\u001b[1;33m(\u001b[0m\u001b[0mself\u001b[0m\u001b[1;33m,\u001b[0m \u001b[0margs\u001b[0m\u001b[1;33m,\u001b[0m \u001b[0mkwargs\u001b[0m\u001b[1;33m,\u001b[0m \u001b[0mcancellation_manager\u001b[0m\u001b[1;33m=\u001b[0m\u001b[1;32mNone\u001b[0m\u001b[1;33m)\u001b[0m\u001b[1;33m:\u001b[0m\u001b[1;33m\u001b[0m\u001b[1;33m\u001b[0m\u001b[0m\n",
      "\u001b[1;32m~\\AppData\\Local\\Continuum\\anaconda3\\lib\\site-packages\\tensorflow\\python\\eager\\function.py\u001b[0m in \u001b[0;36m_call_impl\u001b[1;34m(self, args, kwargs, cancellation_manager)\u001b[0m\n\u001b[0;32m   1643\u001b[0m       raise TypeError(\"Keyword arguments {} unknown. Expected {}.\".format(\n\u001b[0;32m   1644\u001b[0m           list(kwargs.keys()), list(self._arg_keywords)))\n\u001b[1;32m-> 1645\u001b[1;33m     \u001b[1;32mreturn\u001b[0m \u001b[0mself\u001b[0m\u001b[1;33m.\u001b[0m\u001b[0m_call_flat\u001b[0m\u001b[1;33m(\u001b[0m\u001b[0margs\u001b[0m\u001b[1;33m,\u001b[0m \u001b[0mself\u001b[0m\u001b[1;33m.\u001b[0m\u001b[0mcaptured_inputs\u001b[0m\u001b[1;33m,\u001b[0m \u001b[0mcancellation_manager\u001b[0m\u001b[1;33m)\u001b[0m\u001b[1;33m\u001b[0m\u001b[1;33m\u001b[0m\u001b[0m\n\u001b[0m\u001b[0;32m   1646\u001b[0m \u001b[1;33m\u001b[0m\u001b[0m\n\u001b[0;32m   1647\u001b[0m   \u001b[1;32mdef\u001b[0m \u001b[0m_filtered_call\u001b[0m\u001b[1;33m(\u001b[0m\u001b[0mself\u001b[0m\u001b[1;33m,\u001b[0m \u001b[0margs\u001b[0m\u001b[1;33m,\u001b[0m \u001b[0mkwargs\u001b[0m\u001b[1;33m)\u001b[0m\u001b[1;33m:\u001b[0m\u001b[1;33m\u001b[0m\u001b[1;33m\u001b[0m\u001b[0m\n",
      "\u001b[1;32m~\\AppData\\Local\\Continuum\\anaconda3\\lib\\site-packages\\tensorflow\\python\\eager\\function.py\u001b[0m in \u001b[0;36m_call_flat\u001b[1;34m(self, args, captured_inputs, cancellation_manager)\u001b[0m\n\u001b[0;32m   1744\u001b[0m       \u001b[1;31m# No tape is watching; skip to running the function.\u001b[0m\u001b[1;33m\u001b[0m\u001b[1;33m\u001b[0m\u001b[1;33m\u001b[0m\u001b[0m\n\u001b[0;32m   1745\u001b[0m       return self._build_call_outputs(self._inference_function.call(\n\u001b[1;32m-> 1746\u001b[1;33m           ctx, args, cancellation_manager=cancellation_manager))\n\u001b[0m\u001b[0;32m   1747\u001b[0m     forward_backward = self._select_forward_and_backward_functions(\n\u001b[0;32m   1748\u001b[0m         \u001b[0margs\u001b[0m\u001b[1;33m,\u001b[0m\u001b[1;33m\u001b[0m\u001b[1;33m\u001b[0m\u001b[0m\n",
      "\u001b[1;32m~\\AppData\\Local\\Continuum\\anaconda3\\lib\\site-packages\\tensorflow\\python\\eager\\function.py\u001b[0m in \u001b[0;36mcall\u001b[1;34m(self, ctx, args, cancellation_manager)\u001b[0m\n\u001b[0;32m    596\u001b[0m               \u001b[0minputs\u001b[0m\u001b[1;33m=\u001b[0m\u001b[0margs\u001b[0m\u001b[1;33m,\u001b[0m\u001b[1;33m\u001b[0m\u001b[1;33m\u001b[0m\u001b[0m\n\u001b[0;32m    597\u001b[0m               \u001b[0mattrs\u001b[0m\u001b[1;33m=\u001b[0m\u001b[0mattrs\u001b[0m\u001b[1;33m,\u001b[0m\u001b[1;33m\u001b[0m\u001b[1;33m\u001b[0m\u001b[0m\n\u001b[1;32m--> 598\u001b[1;33m               ctx=ctx)\n\u001b[0m\u001b[0;32m    599\u001b[0m         \u001b[1;32melse\u001b[0m\u001b[1;33m:\u001b[0m\u001b[1;33m\u001b[0m\u001b[1;33m\u001b[0m\u001b[0m\n\u001b[0;32m    600\u001b[0m           outputs = execute.execute_with_cancellation(\n",
      "\u001b[1;32m~\\AppData\\Local\\Continuum\\anaconda3\\lib\\site-packages\\tensorflow\\python\\eager\\execute.py\u001b[0m in \u001b[0;36mquick_execute\u001b[1;34m(op_name, num_outputs, inputs, attrs, ctx, name)\u001b[0m\n\u001b[0;32m     58\u001b[0m     \u001b[0mctx\u001b[0m\u001b[1;33m.\u001b[0m\u001b[0mensure_initialized\u001b[0m\u001b[1;33m(\u001b[0m\u001b[1;33m)\u001b[0m\u001b[1;33m\u001b[0m\u001b[1;33m\u001b[0m\u001b[0m\n\u001b[0;32m     59\u001b[0m     tensors = pywrap_tfe.TFE_Py_Execute(ctx._handle, device_name, op_name,\n\u001b[1;32m---> 60\u001b[1;33m                                         inputs, attrs, num_outputs)\n\u001b[0m\u001b[0;32m     61\u001b[0m   \u001b[1;32mexcept\u001b[0m \u001b[0mcore\u001b[0m\u001b[1;33m.\u001b[0m\u001b[0m_NotOkStatusException\u001b[0m \u001b[1;32mas\u001b[0m \u001b[0me\u001b[0m\u001b[1;33m:\u001b[0m\u001b[1;33m\u001b[0m\u001b[1;33m\u001b[0m\u001b[0m\n\u001b[0;32m     62\u001b[0m     \u001b[1;32mif\u001b[0m \u001b[0mname\u001b[0m \u001b[1;32mis\u001b[0m \u001b[1;32mnot\u001b[0m \u001b[1;32mNone\u001b[0m\u001b[1;33m:\u001b[0m\u001b[1;33m\u001b[0m\u001b[1;33m\u001b[0m\u001b[0m\n",
      "\u001b[1;31mKeyboardInterrupt\u001b[0m: "
     ]
    }
   ],
   "source": [
    "K = 4\n",
    "\n",
    "n_epochs = 100\n",
    "batch = 10\n",
    "samples_per_part = len(train_data_z) // K\n",
    "\n",
    "MAEs = []\n",
    "for i in range(K):\n",
    "    print('Running fold {0} of {1}'.format(i+1,K))\n",
    "    validate_x = train_data_z[i*samples_per_part:(i+1)*samples_per_part]\n",
    "    validate_y = train_targets[i*samples_per_part:(i+1)*samples_per_part]\n",
    "    partial_x = [vctr for j,vctr in enumerate(train_data_z) if j not in np.arange(i*samples_per_part,(i+1)*samples_per_part)]\n",
    "    partial_y = [num for j,num in enumerate(train_targets) if j not in np.arange(i*samples_per_part,(i+1)*samples_per_part)]\n",
    "    \n",
    "    model = build_model()\n",
    "    history = model.fit(np.squeeze(partial_x), partial_y, \n",
    "              validation_data=(validate_x,validate_y),\n",
    "              epochs=n_epochs, batch_size=batch, verbose=1)\n",
    "    mae = history.history['val_mae']\n",
    "    MAEs.append(mae)\n",
    "final_mean_mae = np.mean(MAEs)\n",
    "mean_per_epoch = np.mean(MAEs, axis=0)"
   ]
  },
  {
   "cell_type": "code",
   "execution_count": null,
   "metadata": {},
   "outputs": [],
   "source": [
    "import matplotlib.pyplot as plt\n",
    "\n",
    "plt.plot(np.arange(n_epochs),mean_per_epoch)\n",
    "plt.ylabel('Validation MAE')\n",
    "plt.xlabel('Epoch number')\n",
    "plt.show()"
   ]
  },
  {
   "cell_type": "code",
   "execution_count": null,
   "metadata": {},
   "outputs": [],
   "source": [
    "final_mean_mae"
   ]
  },
  {
   "cell_type": "markdown",
   "metadata": {},
   "source": [
    "### You would then retrain the model with all training set having optimised parameters with (iterative K-fold validation."
   ]
  }
 ],
 "metadata": {
  "kernelspec": {
   "display_name": "Python 3",
   "language": "python",
   "name": "python3"
  },
  "language_info": {
   "codemirror_mode": {
    "name": "ipython",
    "version": 3
   },
   "file_extension": ".py",
   "mimetype": "text/x-python",
   "name": "python",
   "nbconvert_exporter": "python",
   "pygments_lexer": "ipython3",
   "version": "3.7.4"
  }
 },
 "nbformat": 4,
 "nbformat_minor": 4
}
