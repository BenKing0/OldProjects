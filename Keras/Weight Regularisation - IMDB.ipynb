{
 "cells": [
  {
   "cell_type": "markdown",
   "metadata": {},
   "source": [
    "### Load and encode the IMDB data:"
   ]
  },
  {
   "cell_type": "code",
   "execution_count": 5,
   "metadata": {},
   "outputs": [],
   "source": [
    "from keras.datasets import imdb\n",
    "(train_data,train_labels), (test_data,test_labels) = imdb.load_data(num_words=10000)"
   ]
  },
  {
   "cell_type": "code",
   "execution_count": 6,
   "metadata": {},
   "outputs": [],
   "source": [
    "import numpy as np\n",
    "# Basic word encoding - each word in dictionary (10000 words long) given an integer 0-9999. \n",
    "# The phrases are then made into 10000 element vectors, with a 1 in indices of a present word, and 0 for absent words.\n",
    "def encode_input(data,dictionary=10000): # dimension = 'num_words'\n",
    "    encoded = np.zeros((len(data),dictionary))\n",
    "    for i,inp in enumerate(data):\n",
    "        assert max(inp) < dictionary, 'Dimension too small.'\n",
    "        encoded[i,inp] = 1\n",
    "    return encoded"
   ]
  },
  {
   "cell_type": "code",
   "execution_count": 7,
   "metadata": {},
   "outputs": [],
   "source": [
    "x_train = encode_input(train_data)\n",
    "y_train = np.asarray(train_labels).astype('float32')\n",
    "x_test = encode_input(test_data)\n",
    "y_test = np.asarray(test_labels).astype('float32')"
   ]
  },
  {
   "cell_type": "markdown",
   "metadata": {},
   "source": [
    "### Building the deep FNN network: USING WEIGHT  REGULISERS"
   ]
  },
  {
   "cell_type": "code",
   "execution_count": 2,
   "metadata": {},
   "outputs": [],
   "source": [
    "from keras import layers\n",
    "from keras import models\n",
    "from keras import regularizers\n",
    "\n",
    "input_tensor = layers.Input(shape=(10000,))\n",
    "# `l2` means a level 2 weight reguliser, this time with a coefficient of 0.001: the loss is added 0.001*weight**2 for every \n",
    "# weight in the layer. Note only included in training, and not testing.\n",
    "h1 = layers.Dense(16,activation='relu',kernel_regularizer=regularizers.l2(0.001))(input_tensor)\n",
    "h2 = layers.Dense(16,activation='relu',kernel_regularizer=regularizers.l2(0.001))(h1)\n",
    "output_tensor = layers.Dense(1,activation='sigmoid')(h2)\n",
    "\n",
    "model = models.Model(inputs=input_tensor,outputs=output_tensor)"
   ]
  },
  {
   "cell_type": "code",
   "execution_count": 3,
   "metadata": {},
   "outputs": [],
   "source": [
    "# Compile the model:\n",
    "from keras import optimizers\n",
    "\n",
    "model.compile(optimizer=optimizers.RMSprop(lr=0.001),\n",
    "             loss='binary_crossentropy',\n",
    "             metrics=['accuracy'])"
   ]
  },
  {
   "cell_type": "markdown",
   "metadata": {},
   "source": [
    "### Run the deep FNN on the data:"
   ]
  },
  {
   "cell_type": "code",
   "execution_count": 8,
   "metadata": {},
   "outputs": [],
   "source": [
    "partial_x_train = x_train[10000:]\n",
    "partial_y_train = y_train[10000:]\n",
    "x_validation = x_train[:10000]\n",
    "y_validation = y_train[:10000]\n",
    "\n",
    "# Note that the inputs/outputs are TENSORS, and not a list of vectors to iterate over!!\n",
    "history = model.fit(partial_x_train,partial_y_train,\n",
    "                    epochs=20,batch_size=512,\n",
    "                    validation_data=(x_validation,y_validation),verbose=0)"
   ]
  },
  {
   "cell_type": "markdown",
   "metadata": {},
   "source": [
    "### View the history/performance of the model:"
   ]
  },
  {
   "cell_type": "code",
   "execution_count": 10,
   "metadata": {},
   "outputs": [
    {
     "data": {
      "text/plain": [
       "dict_keys(['loss', 'accuracy', 'val_loss', 'val_accuracy'])"
      ]
     },
     "execution_count": 10,
     "metadata": {},
     "output_type": "execute_result"
    }
   ],
   "source": [
    "history_dict = history.history\n",
    "history_dict.keys()"
   ]
  },
  {
   "cell_type": "code",
   "execution_count": 11,
   "metadata": {},
   "outputs": [
    {
     "data": {
      "image/png": "[encoded data removed]",
      "text/plain": [
       "<Figure size 432x288 with 2 Axes>"
      ]
     },
     "metadata": {
      "needs_background": "light"
     },
     "output_type": "display_data"
    }
   ],
   "source": [
    "import matplotlib.pyplot as plt\n",
    "\n",
    "validation_loss = history_dict['val_loss']\n",
    "validation_accuracy = history_dict['val_accuracy']\n",
    "training_loss = history_dict['loss']\n",
    "training_accuracy = history_dict['accuracy']\n",
    "\n",
    "epochs = np.arange(1,len(training_loss)+1)\n",
    "fig = plt.figure()\n",
    "fig.add_axes((0,0,1,0.75))\n",
    "plt.plot(epochs,training_loss,'r--',label='Loss')\n",
    "plt.plot(epochs,training_accuracy,'r',label='Accuracy')\n",
    "plt.ylabel('Training data')\n",
    "plt.legend()\n",
    "plt.title('Training results')\n",
    "fig.add_axes((0,-0.75,1,0.75))\n",
    "plt.plot(epochs,validation_loss,'b--',label='Loss')\n",
    "plt.plot(epochs,validation_accuracy,'b',label='Accuracy')\n",
    "plt.ylabel('Validation data')\n",
    "plt.legend()\n",
    "plt.xlabel('Epoch number')\n",
    "plt.show()"
   ]
  },
  {
   "cell_type": "markdown",
   "metadata": {},
   "source": [
    "Here the training accuracy increases with every epoch, as is expected. However, after 4 or so epochs, the model starts $\\textit{overfitting}$, and the validation set (treated the same as a test set, juts with know results), is less well predicted by the model.\n",
    "\n",
    "#### Notice how the $\\textit{L2}$-weight regularisation reduces overfitting by encouraging more homogenous weights - uses more of the parameter hyperspace rather than reinforcing connections made on test data."
   ]
  },
  {
   "cell_type": "markdown",
   "metadata": {},
   "source": [
    "### Using the model to predict from new data:"
   ]
  },
  {
   "cell_type": "code",
   "execution_count": 12,
   "metadata": {},
   "outputs": [
    {
     "name": "stdout",
     "output_type": "stream",
     "text": [
      "Number correctly identified: 21556/25000 = 86.22%\n"
     ]
    }
   ],
   "source": [
    "test_results = model.predict(x_test)\n",
    "\n",
    "count = 0\n",
    "for i,result in enumerate(test_results):\n",
    "    assert abs(result) <= 1, r'Result must be a probability $0\\leq y\\leq 1$'\n",
    "    if result >= 0.5:\n",
    "        result = 1\n",
    "    else:\n",
    "        result = 0\n",
    "    if result == y_test[i]:\n",
    "        count += 1\n",
    "    else:\n",
    "        count = count\n",
    "print('Number correctly identified: {0}/{1} = {2:.2f}%'.format(count,len(test_results),100*count/len(test_results)))"
   ]
  },
  {
   "cell_type": "code",
   "execution_count": null,
   "metadata": {},
   "outputs": [],
   "source": []
  }
 ],
 "metadata": {
  "kernelspec": {
   "display_name": "Python 3",
   "language": "python",
   "name": "python3"
  },
  "language_info": {
   "codemirror_mode": {
    "name": "ipython",
    "version": 3
   },
   "file_extension": ".py",
   "mimetype": "text/x-python",
   "name": "python",
   "nbconvert_exporter": "python",
   "pygments_lexer": "ipython3",
   "version": "3.7.4"
  }
 },
 "nbformat": 4,
 "nbformat_minor": 4
}
