{
 "cells": [
  {
   "cell_type": "markdown",
   "metadata": {},
   "source": [
    "### Load and encode the IMDB data:"
   ]
  },
  {
   "cell_type": "code",
   "execution_count": 1,
   "metadata": {},
   "outputs": [
    {
     "name": "stderr",
     "output_type": "stream",
     "text": [
      "Using TensorFlow backend.\n"
     ]
    }
   ],
   "source": [
    "from keras.datasets import imdb\n",
    "(train_data,train_labels), (test_data,test_labels) = imdb.load_data(num_words=10000)"
   ]
  },
  {
   "cell_type": "code",
   "execution_count": 2,
   "metadata": {},
   "outputs": [],
   "source": [
    "import numpy as np\n",
    "# Basic word encoding - each word in dictionary (10000 words long) given an integer 0-9999. \n",
    "# The phrases are then made into 10000 element vectors, with a 1 in indices of a present word, and 0 for absent words.\n",
    "def encode_input(data,dictionary=10000): # dimension = 'num_words'\n",
    "    encoded = np.zeros((len(data),dictionary))\n",
    "    for i,inp in enumerate(data):\n",
    "        assert max(inp) < dictionary, 'Dimension too small.'\n",
    "        encoded[i,inp] = 1\n",
    "    return encoded"
   ]
  },
  {
   "cell_type": "code",
   "execution_count": 3,
   "metadata": {},
   "outputs": [],
   "source": [
    "x_train = encode_input(train_data)\n",
    "y_train = np.asarray(train_labels).astype('float32')\n",
    "x_test = encode_input(test_data)\n",
    "y_test = np.asarray(test_labels).astype('float32')"
   ]
  },
  {
   "cell_type": "markdown",
   "metadata": {},
   "source": [
    "### Building the deep FNN network:"
   ]
  },
  {
   "cell_type": "code",
   "execution_count": 4,
   "metadata": {},
   "outputs": [
    {
     "data": {
      "text/plain": [
       "'The final layer here returns a probability of being positive (>=0.5) or negative (<0.5).\\nBinary cross entropy is a good cost function for 1-neuron, 2-option these probability cases.'"
      ]
     },
     "execution_count": 4,
     "metadata": {},
     "output_type": "execute_result"
    }
   ],
   "source": [
    "# Sequential form:\n",
    "from keras import layers\n",
    "from keras import models\n",
    "\n",
    "model = models.Sequential()\n",
    "model.add(layers.Dense(16,activation='relu',input_shape=(10000,)))\n",
    "model.add(layers.Dense(16,activation='relu'))\n",
    "model.add(layers.Dense(1,activation='sigmoid'))\n",
    "\n",
    "'''The final layer here returns a probability of being positive (>=0.5) or negative (<0.5).\n",
    "Binary cross entropy is a good cost function for 1-neuron, 2-option these probability cases.'''"
   ]
  },
  {
   "cell_type": "code",
   "execution_count": 5,
   "metadata": {},
   "outputs": [],
   "source": [
    "# (alternative) Functional API form:\n",
    "from keras import layers\n",
    "from keras import models\n",
    "\n",
    "input_tensor = layers.Input(shape=(10000,))\n",
    "h1 = layers.Dense(16,activation='relu')(input_tensor)\n",
    "h2 = layers.Dense(16,activation='relu')(h1)\n",
    "output_tensor = layers.Dense(1,activation='sigmoid')(h2)\n",
    "\n",
    "model = models.Model(inputs=input_tensor,outputs=output_tensor)"
   ]
  },
  {
   "cell_type": "code",
   "execution_count": 6,
   "metadata": {},
   "outputs": [],
   "source": [
    "# Compile the model:\n",
    "from keras import optimizers\n",
    "\n",
    "model.compile(optimizer=optimizers.RMSprop(lr=0.001),\n",
    "             loss='binary_crossentropy',\n",
    "             metrics=['accuracy'])"
   ]
  },
  {
   "cell_type": "markdown",
   "metadata": {},
   "source": [
    "### Run the deep FNN on the data:"
   ]
  },
  {
   "cell_type": "code",
   "execution_count": 7,
   "metadata": {},
   "outputs": [
    {
     "name": "stdout",
     "output_type": "stream",
     "text": [
      "Epoch 1/20\n",
      "30/30 [==============================] - 2s 58ms/step - loss: 0.5116 - accuracy: 0.8036 - val_loss: 0.3889 - val_accuracy: 0.8730\n",
      "Epoch 2/20\n",
      "30/30 [==============================] - 1s 46ms/step - loss: 0.3080 - accuracy: 0.9067 - val_loss: 0.3084 - val_accuracy: 0.8863\n",
      "Epoch 3/20\n",
      "30/30 [==============================] - 1s 45ms/step - loss: 0.2280 - accuracy: 0.9263 - val_loss: 0.2863 - val_accuracy: 0.8872\n",
      "Epoch 4/20\n",
      "30/30 [==============================] - 1s 45ms/step - loss: 0.1818 - accuracy: 0.9405 - val_loss: 0.2738 - val_accuracy: 0.8901\n",
      "Epoch 5/20\n",
      "30/30 [==============================] - 1s 47ms/step - loss: 0.1478 - accuracy: 0.9533 - val_loss: 0.2835 - val_accuracy: 0.8889\n",
      "Epoch 6/20\n",
      "30/30 [==============================] - 2s 51ms/step - loss: 0.1197 - accuracy: 0.9644 - val_loss: 0.2937 - val_accuracy: 0.8881\n",
      "Epoch 7/20\n",
      "30/30 [==============================] - 1s 43ms/step - loss: 0.1033 - accuracy: 0.9681 - val_loss: 0.3059 - val_accuracy: 0.8838\n",
      "Epoch 8/20\n",
      "30/30 [==============================] - 1s 42ms/step - loss: 0.0806 - accuracy: 0.9780 - val_loss: 0.3300 - val_accuracy: 0.8830\n",
      "Epoch 9/20\n",
      "30/30 [==============================] - 2s 53ms/step - loss: 0.0666 - accuracy: 0.9824 - val_loss: 0.3517 - val_accuracy: 0.8783\n",
      "Epoch 10/20\n",
      "30/30 [==============================] - 1s 45ms/step - loss: 0.0545 - accuracy: 0.9865 - val_loss: 0.3974 - val_accuracy: 0.8783\n",
      "Epoch 11/20\n",
      "30/30 [==============================] - 1s 43ms/step - loss: 0.0432 - accuracy: 0.9905 - val_loss: 0.4110 - val_accuracy: 0.8737\n",
      "Epoch 12/20\n",
      "30/30 [==============================] - 1s 46ms/step - loss: 0.0368 - accuracy: 0.9910 - val_loss: 0.4312 - val_accuracy: 0.8774\n",
      "Epoch 13/20\n",
      "30/30 [==============================] - 1s 43ms/step - loss: 0.0266 - accuracy: 0.9954 - val_loss: 0.4573 - val_accuracy: 0.8767\n",
      "Epoch 14/20\n",
      "30/30 [==============================] - 1s 42ms/step - loss: 0.0231 - accuracy: 0.9961 - val_loss: 0.4850 - val_accuracy: 0.8781\n",
      "Epoch 15/20\n",
      "30/30 [==============================] - 2s 51ms/step - loss: 0.0166 - accuracy: 0.9975 - val_loss: 0.5224 - val_accuracy: 0.8746\n",
      "Epoch 16/20\n",
      "30/30 [==============================] - 1s 43ms/step - loss: 0.0150 - accuracy: 0.9977 - val_loss: 0.5549 - val_accuracy: 0.8719\n",
      "Epoch 17/20\n",
      "30/30 [==============================] - 1s 49ms/step - loss: 0.0086 - accuracy: 0.9997 - val_loss: 0.5865 - val_accuracy: 0.8710\n",
      "Epoch 18/20\n",
      "30/30 [==============================] - 1s 42ms/step - loss: 0.0087 - accuracy: 0.9989 - val_loss: 0.6293 - val_accuracy: 0.8699\n",
      "Epoch 19/20\n",
      "30/30 [==============================] - 2s 50ms/step - loss: 0.0079 - accuracy: 0.9985 - val_loss: 0.6541 - val_accuracy: 0.8683\n",
      "Epoch 20/20\n",
      "30/30 [==============================] - 1s 45ms/step - loss: 0.0033 - accuracy: 0.9999 - val_loss: 0.6854 - val_accuracy: 0.8673\n"
     ]
    }
   ],
   "source": [
    "partial_x_train = x_train[10000:]\n",
    "partial_y_train = y_train[10000:]\n",
    "x_validation = x_train[:10000]\n",
    "y_validation = y_train[:10000]\n",
    "\n",
    "# Note that the inputs/outputs are TENSORS, and not a list of vectors to iterate over!!\n",
    "history = model.fit(partial_x_train,partial_y_train,\n",
    "                    epochs=20,batch_size=512,\n",
    "                    validation_data=(x_validation,y_validation))"
   ]
  },
  {
   "cell_type": "markdown",
   "metadata": {},
   "source": [
    "### View the history/performance of the model:"
   ]
  },
  {
   "cell_type": "code",
   "execution_count": 8,
   "metadata": {},
   "outputs": [
    {
     "data": {
      "text/plain": [
       "dict_keys(['loss', 'accuracy', 'val_loss', 'val_accuracy'])"
      ]
     },
     "execution_count": 8,
     "metadata": {},
     "output_type": "execute_result"
    }
   ],
   "source": [
    "history_dict = history.history\n",
    "history_dict.keys()"
   ]
  },
  {
   "cell_type": "code",
   "execution_count": 9,
   "metadata": {},
   "outputs": [
    {
     "data": {
      "image/png": "[encoded data removed]",
      "text/plain": [
       "<Figure size 432x288 with 2 Axes>"
      ]
     },
     "metadata": {
      "needs_background": "light"
     },
     "output_type": "display_data"
    }
   ],
   "source": [
    "import matplotlib.pyplot as plt\n",
    "\n",
    "validation_loss = history_dict['val_loss']\n",
    "validation_accuracy = history_dict['val_accuracy']\n",
    "training_loss = history_dict['loss']\n",
    "training_accuracy = history_dict['accuracy']\n",
    "\n",
    "epochs = np.arange(1,len(training_loss)+1)\n",
    "fig = plt.figure()\n",
    "fig.add_axes((0,0,1,0.75))\n",
    "plt.plot(epochs,training_loss,'r--',label='Loss')\n",
    "plt.plot(epochs,training_accuracy,'r',label='Accuracy')\n",
    "plt.ylabel('Training data')\n",
    "plt.legend()\n",
    "plt.title('Training results')\n",
    "fig.add_axes((0,-0.75,1,0.75))\n",
    "plt.plot(epochs,validation_loss,'b--',label='Loss')\n",
    "plt.plot(epochs,validation_accuracy,'b',label='Accuracy')\n",
    "plt.ylabel('Validation data')\n",
    "plt.legend()\n",
    "plt.xlabel('Epoch number')\n",
    "plt.show()"
   ]
  },
  {
   "cell_type": "markdown",
   "metadata": {},
   "source": [
    "Here the training accuracy increases with every epoch, as is expected. However, after 4 or so epochs, the model starts $\\textit{overfitting}$, and the validation set (treated the same as a test set, juts with know results), is less well predicted by the model."
   ]
  },
  {
   "cell_type": "markdown",
   "metadata": {},
   "source": [
    "### Using the model to predict from new data:"
   ]
  },
  {
   "cell_type": "code",
   "execution_count": 10,
   "metadata": {},
   "outputs": [
    {
     "name": "stdout",
     "output_type": "stream",
     "text": [
      "Number correctly identified: 21313/25000 = 85.25%\n"
     ]
    }
   ],
   "source": [
    "test_results = model.predict(x_test)\n",
    "\n",
    "count = 0\n",
    "for i,result in enumerate(test_results):\n",
    "    assert abs(result) <= 1, r'Result must be a probability $0\\leq y\\leq 1$'\n",
    "    if result >= 0.5:\n",
    "        result = 1\n",
    "    else:\n",
    "        result = 0\n",
    "    if result == y_test[i]:\n",
    "        count += 1\n",
    "    else:\n",
    "        count = count\n",
    "print('Number correctly identified: {0}/{1} = {2:.2f}%'.format(count,len(test_results),100*count/len(test_results)))"
   ]
  },
  {
   "cell_type": "code",
   "execution_count": null,
   "metadata": {},
   "outputs": [],
   "source": []
  }
 ],
 "metadata": {
  "kernelspec": {
   "display_name": "Python 3",
   "language": "python",
   "name": "python3"
  },
  "language_info": {
   "codemirror_mode": {
    "name": "ipython",
    "version": 3
   },
   "file_extension": ".py",
   "mimetype": "text/x-python",
   "name": "python",
   "nbconvert_exporter": "python",
   "pygments_lexer": "ipython3",
   "version": "3.7.4"
  }
 },
 "nbformat": 4,
 "nbformat_minor": 4
}
