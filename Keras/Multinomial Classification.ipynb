{
 "cells": [
  {
   "cell_type": "markdown",
   "metadata": {},
   "source": [
    "### Import data"
   ]
  },
  {
   "cell_type": "code",
   "execution_count": 1,
   "metadata": {},
   "outputs": [
    {
     "name": "stderr",
     "output_type": "stream",
     "text": [
      "Using TensorFlow backend.\n"
     ]
    }
   ],
   "source": [
    "from keras.datasets import reuters\n",
    "\n",
    "# Dictionary restricted to 10000 most frequenctly found words (sorting done before loading data)\n",
    "(train_data,train_labels),(test_data,test_labels) = reuters.load_data(num_words=10000)\n",
    "\n",
    "# (8982 x num_words, 8982), (2246 x num_words, 2246), each entry a list of integers (word keys).\n",
    "# there are 45 labels to categorise the inputs."
   ]
  },
  {
   "cell_type": "markdown",
   "metadata": {},
   "source": [
    "### Encode data"
   ]
  },
  {
   "cell_type": "code",
   "execution_count": 2,
   "metadata": {},
   "outputs": [],
   "source": [
    "import numpy as np\n",
    "\n",
    "def encode_inputs(inp,encoding='one_hot'):\n",
    "    if encoding == 'one_hot':\n",
    "        dictionary_max = 10000\n",
    "        # matrix (len(input) x 10000), each element of input is a vector of one-hot word encodings:\n",
    "        y = np.zeros((len(inp), dictionary_max), dtype='int')\n",
    "        for k,word_vctr  in enumerate(inp):\n",
    "            y[k,word_vctr] = 1\n",
    "        return y\n",
    "    elif encoding == 'embedded':\n",
    "        ## do something ...\n",
    "        return embedded_encoded\n",
    "    \n",
    "def encode_outputs(output):\n",
    "    n = max(train_labels)\n",
    "    y = np.zeros((len(output), n),dtype='int')\n",
    "    for k,label in enumerate(output):\n",
    "        # `label` is simply a number between 1 and 45 here (note no 0, so index changed below).\n",
    "        y[k,label-1] = 1\n",
    "    return y\n",
    "\n",
    "train_in,train_out = encode_inputs(train_data),encode_outputs(train_labels)\n",
    "test_in,test_out = encode_inputs(test_data),encode_outputs(test_labels)"
   ]
  },
  {
   "cell_type": "markdown",
   "metadata": {},
   "source": [
    "### Build the model architecture (Functional API)"
   ]
  },
  {
   "cell_type": "code",
   "execution_count": 3,
   "metadata": {},
   "outputs": [
    {
     "data": {
      "text/plain": [
       "'[10000,64,64,46] densely connected neuron model. As dim(hidden) > dim(outputs), \\nthe model acts to elucidate patterns in data rather than to attempt to classify properties (like an autoencoder).'"
      ]
     },
     "execution_count": 3,
     "metadata": {},
     "output_type": "execute_result"
    }
   ],
   "source": [
    "from keras import layers\n",
    "from keras import models\n",
    "from keras import optimizers\n",
    "\n",
    "# Note that while the maximum length of each input (ie. number of input nodes) is specified,\n",
    "# the number of inputs fed in is not (not necessary for network arcitecture), hence the `(num,)`.\n",
    "input_tensor = layers.Input(shape=(10000,))\n",
    "hidden1 = layers.Dense(64,activation='relu')(input_tensor)\n",
    "hidden2 = layers.Dense(64,activation='relu')(hidden1)\n",
    "output_tensor = layers.Dense(45,activation='softmax')(hidden2) # `softmax` ensures that the sum of outputs = 1 (probability)\n",
    "\n",
    "model = models.Model(inputs=input_tensor,outputs=output_tensor)\n",
    "model.compile(optimizer=optimizers.RMSprop(lr=0.01),\n",
    "              loss='categorical_crossentropy',\n",
    "              metrics=['accuracy'])\n",
    "\n",
    "'''[10000,64,64,46] densely connected neuron model. As dim(hidden) > dim(outputs), \n",
    "the model acts to elucidate patterns in data rather than to attempt to classify properties (like an autoencoder).'''"
   ]
  },
  {
   "cell_type": "markdown",
   "metadata": {},
   "source": [
    "### Run the model and provide feedback"
   ]
  },
  {
   "cell_type": "code",
   "execution_count": 4,
   "metadata": {},
   "outputs": [
    {
     "name": "stdout",
     "output_type": "stream",
     "text": [
      "Train on 7982 samples, validate on 1000 samples\n",
      "Epoch 1/10\n",
      "7982/7982 [==============================] - 1s 180us/step - loss: nan - accuracy: 0.1116 - val_loss: nan - val_accuracy: 0.0460\n",
      "Epoch 2/10\n",
      "7982/7982 [==============================] - 1s 172us/step - loss: nan - accuracy: 0.0484 - val_loss: nan - val_accuracy: 0.0460\n",
      "Epoch 3/10\n",
      "7982/7982 [==============================] - 1s 166us/step - loss: nan - accuracy: 0.0484 - val_loss: nan - val_accuracy: 0.0460\n",
      "Epoch 4/10\n",
      "7982/7982 [==============================] - 1s 122us/step - loss: nan - accuracy: 0.0484 - val_loss: nan - val_accuracy: 0.0460\n",
      "Epoch 5/10\n",
      "7982/7982 [==============================] - 1s 119us/step - loss: nan - accuracy: 0.0484 - val_loss: nan - val_accuracy: 0.0460\n",
      "Epoch 6/10\n",
      "7982/7982 [==============================] - 1s 124us/step - loss: nan - accuracy: 0.0484 - val_loss: nan - val_accuracy: 0.0460\n",
      "Epoch 7/10\n",
      "7982/7982 [==============================] - 1s 127us/step - loss: nan - accuracy: 0.0484 - val_loss: nan - val_accuracy: 0.0460\n",
      "Epoch 8/10\n",
      "7982/7982 [==============================] - 1s 141us/step - loss: nan - accuracy: 0.0484 - val_loss: nan - val_accuracy: 0.0460\n",
      "Epoch 9/10\n",
      "7982/7982 [==============================] - 1s 179us/step - loss: nan - accuracy: 0.0484 - val_loss: nan - val_accuracy: 0.0460\n",
      "Epoch 10/10\n",
      "7982/7982 [==============================] - 1s 126us/step - loss: nan - accuracy: 0.0484 - val_loss: nan - val_accuracy: 0.0460\n"
     ]
    }
   ],
   "source": [
    "partial_in, partial_out = train_in[1000:],train_out[1000:]\n",
    "validate_in, validate_out = train_in[:1000],train_out[:1000]\n",
    "\n",
    "epoch_num = 10\n",
    "history = model.fit(partial_in, partial_out, \n",
    "                    epochs = epoch_num, batch_size = 512,\n",
    "                   validation_data = (validate_in,validate_out))"
   ]
  },
  {
   "cell_type": "code",
   "execution_count": 5,
   "metadata": {},
   "outputs": [
    {
     "name": "stdout",
     "output_type": "stream",
     "text": [
      "dict_keys(['val_loss', 'val_accuracy', 'loss', 'accuracy'])\n",
      "2246/2246 [==============================] - 0s 216us/step\n",
      "Test Loss: nan, Test Accuracy: 0.05\n"
     ]
    }
   ],
   "source": [
    "results = history.history\n",
    "print(results.keys())\n",
    "\n",
    "test_results = model.evaluate(test_in,test_out)\n",
    "print('Test Loss: {0:.2f}, Test Accuracy: {1:.2f}'.format(*test_results))"
   ]
  },
  {
   "cell_type": "code",
   "execution_count": 6,
   "metadata": {},
   "outputs": [
    {
     "data": {
      "image/png": "[encoded data removed]",
      "text/plain": [
       "<Figure size 216x144 with 2 Axes>"
      ]
     },
     "metadata": {
      "needs_background": "light"
     },
     "output_type": "display_data"
    }
   ],
   "source": [
    "import matplotlib.pyplot as plt\n",
    "\n",
    "train_loss,train_accuracy = results['loss'],results['accuracy']\n",
    "val_loss,val_accuracy = results['val_loss'],results['val_accuracy']\n",
    "epochs = np.arange(epoch_num)\n",
    "\n",
    "fig = plt.figure(figsize=(3,2))\n",
    "fig.add_axes((0,0,1.5,1))\n",
    "plt.title('Model Performance')\n",
    "plt.plot(epochs,train_loss,'k',label='Training')\n",
    "plt.plot(epochs,val_loss,'r--',label='Validation')\n",
    "plt.ylabel('Loss')\n",
    "plt.legend(loc='lower left')\n",
    "plt.xticks([])\n",
    "plt.ylim(bottom=0)\n",
    "fig.add_axes((0,-1.1,1.5,1))\n",
    "plt.plot(epochs,train_accuracy,'k',label='Training')\n",
    "plt.plot(epochs,val_accuracy,'r--',label='Validation')\n",
    "plt.ylabel('Accuracy')\n",
    "plt.xlabel('Epoch number')\n",
    "plt.legend(loc='lower left')\n",
    "plt.xticks(epochs)\n",
    "plt.ylim(bottom=0)\n",
    "plt.show()"
   ]
  },
  {
   "cell_type": "markdown",
   "metadata": {},
   "source": [
    "### Make Predictions"
   ]
  },
  {
   "cell_type": "code",
   "execution_count": 7,
   "metadata": {},
   "outputs": [
    {
     "name": "stdout",
     "output_type": "stream",
     "text": [
      "[1 1 1 ... 1 1 1]\n"
     ]
    }
   ],
   "source": [
    "predictions = model.predict(test_in)\n",
    "\n",
    "def decode_outputs(output):\n",
    "    y = np.zeros((len(output),len(output[0])))\n",
    "    decoded_labels = []\n",
    "    for k,prob_vctr in enumerate(output):\n",
    "        decoded_labels.append(np.argmax(prob_vctr))\n",
    "    return np.add(decoded_labels,1) # as labels are 1 to 45, not 0 to 44.\n",
    "\n",
    "print(decode_outputs(predictions))"
   ]
  },
  {
   "cell_type": "code",
   "execution_count": null,
   "metadata": {},
   "outputs": [],
   "source": []
  },
  {
   "cell_type": "code",
   "execution_count": null,
   "metadata": {},
   "outputs": [],
   "source": []
  }
 ],
 "metadata": {
  "kernelspec": {
   "display_name": "Python 3",
   "language": "python",
   "name": "python3"
  },
  "language_info": {
   "codemirror_mode": {
    "name": "ipython",
    "version": 3
   },
   "file_extension": ".py",
   "mimetype": "text/x-python",
   "name": "python",
   "nbconvert_exporter": "python",
   "pygments_lexer": "ipython3",
   "version": "3.7.4"
  }
 },
 "nbformat": 4,
 "nbformat_minor": 4
}
