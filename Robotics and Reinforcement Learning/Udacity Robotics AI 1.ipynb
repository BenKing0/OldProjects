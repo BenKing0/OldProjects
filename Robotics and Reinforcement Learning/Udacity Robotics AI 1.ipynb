{
 "cells": [
  {
   "cell_type": "code",
   "execution_count": 34,
   "metadata": {},
   "outputs": [],
   "source": [
    "import numpy as np\n",
    "\n",
    "n = 5\n",
    "prior = [1./n]*n # uniform\n",
    "\n",
    "world = ['red','green','green','red','red']\n",
    "environment = ['red','green']\n",
    "motions = [1,1]\n",
    "pHit,pMiss = 0.6,0.2\n",
    "pUndershoot,pOvershoot,pExact = 0.1,0.1,0.8\n",
    "\n",
    "# Sensing changes a prior to a posterior distribution, gains information.\n",
    "# Entropy decreases - distribution becomes less uniform (more evidence in posterior).\n",
    "def sense(p,Z): \n",
    "    q = []\n",
    "    for i,prob in enumerate(p):\n",
    "        hit = (Z == world[i]) # 1 if true, 0 if false\n",
    "        q.append(p[i]*(pHit*hit + (1-hit)*pMiss))\n",
    "    q = q / np.sum(q)\n",
    "    return q\n",
    "\n",
    "# Moving is inexact, the distance moved is randomly (normally) distributed - loses information, but often less than gained by sensing.\n",
    "# Entropy increases - distribution becomes more uniform.\n",
    "def move(p,U):\n",
    "    q = []\n",
    "    for i in range(len(p)):\n",
    "        s = pExact*p[(i-U)%len(p)]\n",
    "        s += pUndershoot*p[(i-U+1)%len(p)] # `+` here means concatenate to list as list type\n",
    "        s += pOvershoot*p[(i-U-1)%len(p)] # `%` means modulo len(p)\n",
    "        q.append(s) \n",
    "    return q\n",
    "\n",
    "'''First senses red, then moves 1, then senses green, then moves 1 - what is posterior distribution?'''\n",
    "steps = np.stack((environment,motions),axis=0).T\n",
    "p = prior\n",
    "for current in steps:\n",
    "    p = sense(p,current[0])\n",
    "    p = move(p,int(current[1]))"
   ]
  },
  {
   "cell_type": "code",
   "execution_count": 36,
   "metadata": {},
   "outputs": [
    {
     "data": {
      "image/png": "[encoded data removed]",
      "text/plain": [
       "<Figure size 432x288 with 1 Axes>"
      ]
     },
     "metadata": {
      "needs_background": "light"
     },
     "output_type": "display_data"
    }
   ],
   "source": [
    "import matplotlib.pyplot as plt\n",
    "x = np.arange(len(p))\n",
    "plt.bar(x,p)\n",
    "plt.show()"
   ]
  },
  {
   "cell_type": "markdown",
   "metadata": {},
   "source": [
    "### Formalism - Probabilistic inference:"
   ]
  },
  {
   "cell_type": "markdown",
   "metadata": {},
   "source": [
    "$P(X_i|Z)=\\frac{P(Z|X_i)P(X_i)}{P(Z)}=\\frac{P(Z|X_i)P(X_i)}{P(Z|\\neg X_i)P(\\neg X_i)+P(Z|X_i)P(X_i)}$ - the same as sensing algorithm above but mathematically put, given measurement $Z$.\n",
    "\n",
    "$P(X_i^t)=\\sum_jP(X_j^{t-1})P(X_i^t|X_j^{t-1})=\\sum_jP(X_i,X_j)$ - the same as the motion algorithm above but mathematically put - total probability theorem."
   ]
  },
  {
   "cell_type": "markdown",
   "metadata": {},
   "source": [
    "#### Example:\n",
    "\n",
    "Let there be a fair coin toss, if the result is tails it is accepted, but if it is heads, a reflip is done, and the next result taken.\n",
    "\n",
    "What is probability of a final result of heads?\n",
    "\n",
    "$X={H,T}$. $P(H)=P(H^1)+P(H^2)$. Due to rules, $P(H^1)=0$, so $P(H)=P(H^2)$.\n",
    "\n",
    "$\\therefore P(H^2)=\\sum_{X_2^1=H,T}P(H^2|X_2^1)P(X_2^1)=P(H^2|H^1)P(H^1)+P(H^2|T^1)P(T^1)=0.5*0.5+0*0.5=0.25$"
   ]
  },
  {
   "cell_type": "markdown",
   "metadata": {},
   "source": []
  }
 ],
 "metadata": {
  "kernelspec": {
   "display_name": "Python 3",
   "language": "python",
   "name": "python3"
  },
  "language_info": {
   "codemirror_mode": {
    "name": "ipython",
    "version": 3
   },
   "file_extension": ".py",
   "mimetype": "text/x-python",
   "name": "python",
   "nbconvert_exporter": "python",
   "pygments_lexer": "ipython3",
   "version": "3.7.4"
  }
 },
 "nbformat": 4,
 "nbformat_minor": 4
}
