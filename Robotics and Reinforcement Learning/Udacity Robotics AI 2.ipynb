{
 "cells": [
  {
   "cell_type": "markdown",
   "metadata": {},
   "source": [
    "### Programming assignment: \n",
    "\n",
    "#### Produce an updated 2D posterior distribution after each movement and subsequent measurement - Localisation."
   ]
  },
  {
   "cell_type": "markdown",
   "metadata": {},
   "source": [
    "The function localize takes the following arguments:\n",
    "\n",
    "Colours:\n",
    "       2D list, each entry either 'R' (for red cell) or 'G' (for green cell)\n",
    "\n",
    "Measurements:\n",
    "       list of measurements taken by the robot, each entry either 'R' or 'G'\n",
    "\n",
    "Motions:\n",
    "       list of actions taken by the robot, each entry of the form [dy,dx],\n",
    "       where dx refers to the change in the x-direction (positive meaning\n",
    "       movement to the right) and dy refers to the change in the y-direction\n",
    "       (positive meaning movement downward)\n",
    "       NOTE: the *first* coordinate is change in y; the *second* coordinate is\n",
    "             change in x\n",
    "\n",
    "sensor_right:\n",
    "       float between 0 and 1, giving the probability that any given\n",
    "       measurement is correct; the probability that the measurement is\n",
    "       incorrect is 1-sensor_right\n",
    "\n",
    "p_move:\n",
    "       float between 0 and 1, giving the probability that any given movement\n",
    "       command takes place; the probability that the movement command fails\n",
    "       (and the robot remains still) is 1-p_move; the robot will NOT overshoot\n",
    "       its destination in this exercise\n",
    "\n",
    "The function should RETURN (not just show or print) a 2D list (of the same\n",
    "dimensions as colors) that gives the probabilities that the robot occupies\n",
    "each cell in the world.\n",
    "\n",
    "Compute the probabilities by assuming the robot initially has a uniform\n",
    "probability of being in any cell.\n",
    "\n",
    "Also assume that at each step, the robot:\n",
    "1) first makes a movement,\n",
    "2) then takes a measurement.\n",
    "\n",
    "Motion:\n",
    " [0,0] - stay\n",
    " [0,1] - right\n",
    " [0,-1] - left\n",
    " [1,0] - down\n",
    " [-1,0] - up"
   ]
  },
  {
   "cell_type": "code",
   "execution_count": 39,
   "metadata": {},
   "outputs": [],
   "source": [
    "import numpy as np\n",
    "\n",
    "def localize(colors,measurements,motions,sensor_right,p_move):\n",
    "    # initializes p to a uniform distribution over a grid of the same dimensions as colors\n",
    "    pinit = 1.0 / float(len(colors)) / float(len(colors[0]))\n",
    "    p = [[pinit for row in range(len(colors[0]))] for col in range(len(colors))]\n",
    "    \n",
    "    for i,step in enumerate(motions):\n",
    "        p = move(step,p_move,p)\n",
    "        p = sense(measurements[i],sensor_right,p,colors)\n",
    "    return p\n",
    "\n",
    "def move(motion,p_move,p):\n",
    "    # `motions` of type [down(up),right(left)]\n",
    "    try:\n",
    "        assert isintance(p,np.ndarray)\n",
    "    except:\n",
    "        p = np.array(p)\n",
    "    cache = np.zeros(p.shape) # the result if movement happens\n",
    "    for i in range(p.shape[0]): # rows\n",
    "        for j in range(p.shape[1]):# columns\n",
    "            cache[i,j] = p[(i-motion[0])%p.shape[0],(j-motion[1])%p.shape[1]]\n",
    "    # Take into account probability of no movement:\n",
    "    p = p_move*np.array(cache) + (1-p_move)*p \n",
    "    prob_sum = sum(map(sum,p)) # `map(sum,colors)` sums each row and then the row sums summed over columns\n",
    "    p = p/prob_sum\n",
    "    return p\n",
    "\n",
    "def sense(measurement,sensor_right,p,colors):\n",
    "    # Uses Bayesian inference formula\n",
    "    try:\n",
    "        assert isintance(p,np.ndarray)\n",
    "    except:\n",
    "        p = np.array(p)\n",
    "    non_norm_posterior = np.zeros(p.shape)\n",
    "    for i in range(p.shape[0]):\n",
    "        for j in range(p.shape[1]):\n",
    "            true_hit = measurement == colors[i][j]\n",
    "            non_norm_posterior[i,j] = (sensor_right*true_hit+(1-sensor_right)*(1-true_hit)) * p[i,j]\n",
    "    prob_sum = sum(map(sum,non_norm_posterior))\n",
    "    p = non_norm_posterior/prob_sum\n",
    "    return p\n",
    "\n",
    "def show(p):\n",
    "    rows = ['[' + ','.join(map(lambda x: '{0:.5f}'.format(x),r)) + ']' for r in p]\n",
    "    print('[' + ',\\n '.join(rows) + ']')"
   ]
  },
  {
   "cell_type": "code",
   "execution_count": 40,
   "metadata": {},
   "outputs": [
    {
     "name": "stdout",
     "output_type": "stream",
     "text": [
      "[[0.01106,0.02464,0.06800,0.04472,0.02465],\n",
      " [0.00715,0.01017,0.08697,0.07988,0.00935],\n",
      " [0.00740,0.00894,0.11273,0.35351,0.04066],\n",
      " [0.00911,0.00715,0.01435,0.04313,0.03643]]\n"
     ]
    }
   ],
   "source": [
    "## Test:\n",
    "colors = [['R','G','G','R','R'],\n",
    "          ['R','R','G','R','R'],\n",
    "          ['R','R','G','G','R'],\n",
    "          ['R','R','R','R','R']]\n",
    "measurements = ['G','G','G','G','G']\n",
    "motions = [[0,0],[0,1],[1,0],[1,0],[0,1]]\n",
    "p = localize(colors,measurements,motions,sensor_right = 0.7, p_move = 0.8)\n",
    "show(p) # displays your answer"
   ]
  },
  {
   "cell_type": "code",
   "execution_count": null,
   "metadata": {},
   "outputs": [],
   "source": []
  }
 ],
 "metadata": {
  "kernelspec": {
   "display_name": "Python 3",
   "language": "python",
   "name": "python3"
  },
  "language_info": {
   "codemirror_mode": {
    "name": "ipython",
    "version": 3
   },
   "file_extension": ".py",
   "mimetype": "text/x-python",
   "name": "python",
   "nbconvert_exporter": "python",
   "pygments_lexer": "ipython3",
   "version": "3.7.4"
  }
 },
 "nbformat": 4,
 "nbformat_minor": 4
}
